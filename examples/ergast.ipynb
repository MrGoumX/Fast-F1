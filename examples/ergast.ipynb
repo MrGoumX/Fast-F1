{
 "cells": [
  {
   "cell_type": "code",
   "execution_count": 8,
   "metadata": {},
   "outputs": [
    {
     "ename": "AttributeError",
     "evalue": "'Result' object has no attribute 'raw_result'",
     "output_type": "error",
     "traceback": [
      "\u001b[1;31m---------------------------------------------------------------------------\u001b[0m",
      "\u001b[1;31mAttributeError\u001b[0m                            Traceback (most recent call last)",
      "Cell \u001b[1;32mIn[8], line 24\u001b[0m\n\u001b[0;32m     20\u001b[0m spec2\u001b[39m.\u001b[39mloader\u001b[39m.\u001b[39mexec_module(drivers)\n\u001b[0;32m     22\u001b[0m drivers \u001b[39m=\u001b[39m drivers\u001b[39m.\u001b[39mdrivers_for_season_and_round(\u001b[39m2022\u001b[39m, \u001b[39m6\u001b[39m)\n\u001b[1;32m---> 24\u001b[0m pd\u001b[39m.\u001b[39mDataFrame(drivers\u001b[39m.\u001b[39;49mraw_result())\n",
      "\u001b[1;31mAttributeError\u001b[0m: 'Result' object has no attribute 'raw_result'"
     ]
    }
   ],
   "source": [
    "import importlib.util\n",
    "import sys\n",
    "import pandas as pd\n",
    "\n",
    "spec3 = importlib.util.spec_from_file_location(\"fastf1.ergast.models.driver\", \"D:/MGX/Projects/Fast-F1/fastf1/ergast/models/driver.py\")\n",
    "driver_model = importlib.util.module_from_spec(spec3)\n",
    "sys.modules[\"fastf1.ergast.models.driver\"] = driver_model\n",
    "spec3.loader.exec_module(driver_model)\n",
    "spec4 = importlib.util.spec_from_file_location(\"fastf1.ergast.results.result\", \"D:/MGX/Projects/Fast-F1/fastf1/ergast/results/result.py\")\n",
    "result = importlib.util.module_from_spec(spec4)\n",
    "sys.modules[\"fastf1.ergast.results.result\"] = result\n",
    "spec4.loader.exec_module(result)\n",
    "spec1 = importlib.util.spec_from_file_location(\"fastf1.ergast.api\", \"D:/MGX/Projects/Fast-F1/fastf1/ergast/api.py\")\n",
    "api = importlib.util.module_from_spec(spec1)\n",
    "sys.modules[\"fastf1.ergast.api\"] = api\n",
    "spec1.loader.exec_module(api)\n",
    "spec2 = importlib.util.spec_from_file_location(\"fastf1.ergast.drivers\", \"D:/MGX/Projects/Fast-F1/fastf1/ergast/drivers.py\")\n",
    "drivers = importlib.util.module_from_spec(spec2)\n",
    "sys.modules[\"fastf1.ergast.drivers\"] = drivers\n",
    "spec2.loader.exec_module(drivers)\n",
    "\n",
    "drivers = drivers.drivers_for_season_and_round(2022, 6)\n",
    "\n",
    "pd.DataFrame(drivers._raw_result())\n"
   ]
  }
 ],
 "metadata": {
  "kernelspec": {
   "display_name": "Python 3",
   "language": "python",
   "name": "python3"
  },
  "language_info": {
   "codemirror_mode": {
    "name": "ipython",
    "version": 3
   },
   "file_extension": ".py",
   "mimetype": "text/x-python",
   "name": "python",
   "nbconvert_exporter": "python",
   "pygments_lexer": "ipython3",
   "version": "3.9.13"
  },
  "orig_nbformat": 4,
  "vscode": {
   "interpreter": {
    "hash": "42473868bcaee072ff7497a1dda866b28598f51c7a82cbf5f6806600f9f24c6d"
   }
  }
 },
 "nbformat": 4,
 "nbformat_minor": 2
}
