{
 "cells": [
  {
   "cell_type": "code",
   "execution_count": 11,
   "metadata": {},
   "outputs": [
    {
     "data": {
      "text/html": [
       "<div>\n",
       "<style scoped>\n",
       "    .dataframe tbody tr th:only-of-type {\n",
       "        vertical-align: middle;\n",
       "    }\n",
       "\n",
       "    .dataframe tbody tr th {\n",
       "        vertical-align: top;\n",
       "    }\n",
       "\n",
       "    .dataframe thead th {\n",
       "        text-align: right;\n",
       "    }\n",
       "</style>\n",
       "<table border=\"1\" class=\"dataframe\">\n",
       "  <thead>\n",
       "    <tr style=\"text-align: right;\">\n",
       "      <th></th>\n",
       "      <th>id</th>\n",
       "      <th>name</th>\n",
       "      <th>nationality</th>\n",
       "    </tr>\n",
       "  </thead>\n",
       "  <tbody>\n",
       "    <tr>\n",
       "      <th>0</th>\n",
       "      <td>alfa</td>\n",
       "      <td>Alfa Romeo</td>\n",
       "      <td>Swiss</td>\n",
       "    </tr>\n",
       "  </tbody>\n",
       "</table>\n",
       "</div>"
      ],
      "text/plain": [
       "     id        name nationality\n",
       "0  alfa  Alfa Romeo       Swiss"
      ]
     },
     "execution_count": 11,
     "metadata": {},
     "output_type": "execute_result"
    }
   ],
   "source": [
    "import importlib.util\n",
    "import sys\n",
    "import pandas as pd\n",
    "\n",
    "spec3 = importlib.util.spec_from_file_location(\"fastf1.ergast.models.driver\", \"D:/MGX/Projects/Fast-F1/fastf1/ergast/models/driver.py\")\n",
    "driver_model = importlib.util.module_from_spec(spec3)\n",
    "sys.modules[\"fastf1.ergast.models.driver\"] = driver_model\n",
    "spec3.loader.exec_module(driver_model)\n",
    "spec5 = importlib.util.spec_from_file_location(\"fastf1.ergast.models.constructor\", \"D:/MGX/Projects/Fast-F1/fastf1/ergast/models/constructor.py\")\n",
    "constructor_model = importlib.util.module_from_spec(spec5)\n",
    "sys.modules[\"fastf1.ergast.models.constructor\"] = constructor_model\n",
    "spec5.loader.exec_module(constructor_model)\n",
    "spec7 = importlib.util.spec_from_file_location(\"fastf1.ergast.models.circuit\", \"D:/MGX/Projects/Fast-F1/fastf1/ergast/models/circuit.py\")\n",
    "circuit_model = importlib.util.module_from_spec(spec7)\n",
    "sys.modules[\"fastf1.ergast.models.circuit\"] = circuit_model\n",
    "spec7.loader.exec_module(circuit_model)\n",
    "spec4 = importlib.util.spec_from_file_location(\"fastf1.ergast.results.result\", \"D:/MGX/Projects/Fast-F1/fastf1/ergast/results/result.py\")\n",
    "result = importlib.util.module_from_spec(spec4)\n",
    "sys.modules[\"fastf1.ergast.results.result\"] = result\n",
    "spec4.loader.exec_module(result)\n",
    "spec1 = importlib.util.spec_from_file_location(\"fastf1.ergast.api\", \"D:/MGX/Projects/Fast-F1/fastf1/ergast/api.py\")\n",
    "api = importlib.util.module_from_spec(spec1)\n",
    "sys.modules[\"fastf1.ergast.api\"] = api\n",
    "spec1.loader.exec_module(api)\n",
    "spec2 = importlib.util.spec_from_file_location(\"fastf1.ergast.drivers\", \"D:/MGX/Projects/Fast-F1/fastf1/ergast/drivers.py\")\n",
    "drivers = importlib.util.module_from_spec(spec2)\n",
    "sys.modules[\"fastf1.ergast.drivers\"] = drivers\n",
    "spec2.loader.exec_module(drivers)\n",
    "spec6 = importlib.util.spec_from_file_location(\"fastf1.ergast.constructors\", \"D:/MGX/Projects/Fast-F1/fastf1/ergast/constructors.py\")\n",
    "constructors = importlib.util.module_from_spec(spec6)\n",
    "sys.modules[\"fastf1.ergast.constructors\"] = constructors\n",
    "spec6.loader.exec_module(constructors)\n",
    "spec8 = importlib.util.spec_from_file_location(\"fastf1.ergast.circuits\", \"D:/MGX/Projects/Fast-F1/fastf1/ergast/circuits.py\")\n",
    "circuits = importlib.util.module_from_spec(spec8)\n",
    "sys.modules[\"fastf1.ergast.circuits\"] = circuits\n",
    "spec8.loader.exec_module(circuits)\n",
    "\n",
    "\n",
    "# koko = drivers.drivers_for_season_and_round(2022, 6)\n",
    "\n",
    "# drivers.driver_info('albon').result[0].to_raw()\n",
    "\n",
    "# koko.overview()\n",
    "\n",
    "# constructors.constructors_info('alfa').overview()"
   ]
  }
 ],
 "metadata": {
  "kernelspec": {
   "display_name": "Python 3",
   "language": "python",
   "name": "python3"
  },
  "language_info": {
   "codemirror_mode": {
    "name": "ipython",
    "version": 3
   },
   "file_extension": ".py",
   "mimetype": "text/x-python",
   "name": "python",
   "nbconvert_exporter": "python",
   "pygments_lexer": "ipython3",
   "version": "3.9.13"
  },
  "orig_nbformat": 4,
  "vscode": {
   "interpreter": {
    "hash": "42473868bcaee072ff7497a1dda866b28598f51c7a82cbf5f6806600f9f24c6d"
   }
  }
 },
 "nbformat": 4,
 "nbformat_minor": 2
}
